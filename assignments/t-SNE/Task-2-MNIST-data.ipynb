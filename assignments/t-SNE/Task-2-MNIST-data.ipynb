{
 "cells": [
  {
   "cell_type": "markdown",
   "id": "0ad0af4e",
   "metadata": {},
   "source": [
    "# Task 2: Generate PCA and t-SNE projections of the MNIST handwritten digits dataset\n",
    "\n",
    "***"
   ]
  },
  {
   "cell_type": "code",
   "execution_count": 1,
   "id": "73839597",
   "metadata": {},
   "outputs": [],
   "source": [
    "import numpy as np\n",
    "import time\n",
    "import matplotlib.pyplot as plt\n",
    "from matplotlib.colors import ListedColormap\n",
    "from matplotlib import cm\n",
    "from sklearn import manifold\n",
    "from sklearn import datasets\n",
    "from sklearn.model_selection import train_test_split\n",
    "from sklearn.datasets import fetch_openml\n",
    "\n",
    "%matplotlib inline"
   ]
  },
  {
   "cell_type": "code",
   "execution_count": 2,
   "id": "78e86fb3",
   "metadata": {},
   "outputs": [],
   "source": [
    "random_seed = 100"
   ]
  },
  {
   "cell_type": "code",
   "execution_count": 3,
   "id": "66b2789e",
   "metadata": {},
   "outputs": [],
   "source": [
    "def plot_projection(projection, labels):\n",
    "\n",
    "    n_clusters = len(np.unique(labels))\n",
    "\n",
    "    x = projection[:,0]\n",
    "    y = projection[:,1]\n",
    "\n",
    "    color_map_colors = cm.get_cmap('tab10', n_clusters)\n",
    "    cluster_colors = color_map_colors(np.linspace(0, 1, n_clusters))\n",
    "\n",
    "    figure = plt.figure(figsize=(10,10))\n",
    "\n",
    "    for k in range(0,n_clusters):\n",
    "        plt.scatter(x[np.where(labels==k)], y[np.where(labels==k)], color=cluster_colors[k], marker='o', s=40, alpha=1, label=str(k))\n",
    "\n",
    "    l = plt.legend(ncol=1, handletextpad=0, frameon=False, fontsize=22, markerscale=4, bbox_to_anchor=(1,1))\n",
    "    for k, text in enumerate(l.get_texts()):\n",
    "        text.set_color(cluster_colors[k])\n",
    "        \n",
    "    plt.xticks([])\n",
    "    plt.yticks([])\n",
    "    plt.gca().spines[\"top\"].set_visible(False)\n",
    "    plt.gca().spines[\"right\"].set_visible(False)\n",
    "    plt.gca().spines[\"bottom\"].set_visible(False)\n",
    "    plt.gca().spines[\"left\"].set_visible(False)\n",
    "\n",
    "    return plt"
   ]
  },
  {
   "cell_type": "markdown",
   "id": "2b891e3f",
   "metadata": {},
   "source": [
    "Load the MNIST handwritten digits dataset:"
   ]
  },
  {
   "cell_type": "code",
   "execution_count": 4,
   "id": "ff74d2d8",
   "metadata": {},
   "outputs": [],
   "source": [
    "mnist = fetch_openml(\"mnist_784\", version=1)\n",
    "X = mnist.data\n",
    "labels = mnist.target.astype(int)\n",
    "(n_observations, n_dimensions) = np.shape(X)"
   ]
  },
  {
   "cell_type": "code",
   "execution_count": 5,
   "id": "fa4b421a",
   "metadata": {},
   "outputs": [
    {
     "data": {
      "text/plain": [
       "(70000,)"
      ]
     },
     "execution_count": 5,
     "metadata": {},
     "output_type": "execute_result"
    }
   ],
   "source": [
    "labels.shape"
   ]
  },
  {
   "cell_type": "code",
   "execution_count": 6,
   "id": "b1baf7e4",
   "metadata": {},
   "outputs": [
    {
     "data": {
      "text/plain": [
       "(70000, 784)"
      ]
     },
     "execution_count": 6,
     "metadata": {},
     "output_type": "execute_result"
    }
   ],
   "source": [
    "X.shape"
   ]
  },
  {
   "cell_type": "markdown",
   "id": "cafa6f73",
   "metadata": {},
   "source": [
    "Reduce the size of the data matrix so that t-SNE doesn't take too long to run (use `X_train` and `labels_train` from now on):"
   ]
  },
  {
   "cell_type": "code",
   "execution_count": 7,
   "id": "92c67faa",
   "metadata": {},
   "outputs": [],
   "source": [
    "X_train, X_test, labels_train, labels_test = train_test_split(X, labels, test_size=0.9, random_state=random_seed)"
   ]
  },
  {
   "cell_type": "code",
   "execution_count": 8,
   "id": "679ae0b4",
   "metadata": {},
   "outputs": [
    {
     "data": {
      "text/plain": [
       "(7000,)"
      ]
     },
     "execution_count": 8,
     "metadata": {},
     "output_type": "execute_result"
    }
   ],
   "source": [
    "labels_train.shape"
   ]
  },
  {
   "cell_type": "code",
   "execution_count": 9,
   "id": "94e53cf4",
   "metadata": {},
   "outputs": [
    {
     "data": {
      "text/plain": [
       "(7000, 784)"
      ]
     },
     "execution_count": 9,
     "metadata": {},
     "output_type": "execute_result"
    }
   ],
   "source": [
    "X_train.shape"
   ]
  },
  {
   "cell_type": "markdown",
   "id": "d9dfd961",
   "metadata": {},
   "source": [
    "Once you have your PCA or t-SNE projection, use the `plot_projection` function to visualize it:"
   ]
  },
  {
   "cell_type": "code",
   "execution_count": null,
   "id": "0b84c88e",
   "metadata": {},
   "outputs": [],
   "source": [
    "plot_projection(projection, labels);"
   ]
  },
  {
   "cell_type": "markdown",
   "id": "afe6d2e3",
   "metadata": {},
   "source": [
    "***"
   ]
  }
 ],
 "metadata": {
  "kernelspec": {
   "display_name": "Python 3",
   "language": "python",
   "name": "python3"
  },
  "language_info": {
   "codemirror_mode": {
    "name": "ipython",
    "version": 3
   },
   "file_extension": ".py",
   "mimetype": "text/x-python",
   "name": "python",
   "nbconvert_exporter": "python",
   "pygments_lexer": "ipython3",
   "version": "3.7.6"
  }
 },
 "nbformat": 4,
 "nbformat_minor": 5
}

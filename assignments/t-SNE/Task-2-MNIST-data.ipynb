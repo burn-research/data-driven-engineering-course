{
 "cells": [
  {
   "cell_type": "markdown",
   "id": "a2917b99",
   "metadata": {},
   "source": [
    "# Task 2: Generate PCA and t-SNE projections of the MNIST handwritten digits dataset\n",
    "\n",
    "***"
   ]
  },
  {
   "cell_type": "code",
   "execution_count": null,
   "id": "09e33202",
   "metadata": {},
   "outputs": [],
   "source": [
    "import numpy as np\n",
    "import time\n",
    "import matplotlib.pyplot as plt\n",
    "from matplotlib.colors import ListedColormap\n",
    "from matplotlib import cm\n",
    "from sklearn import manifold\n",
    "from sklearn import datasets\n",
    "from sklearn.datasets import fetch_openml\n",
    "\n",
    "%matplotlib inline"
   ]
  },
  {
   "cell_type": "code",
   "execution_count": null,
   "id": "98d53cfa",
   "metadata": {},
   "outputs": [],
   "source": [
    "random_seed = 100"
   ]
  },
  {
   "cell_type": "code",
   "execution_count": null,
   "id": "6cb19201",
   "metadata": {},
   "outputs": [],
   "source": [
    "def plot_projection(projection, labels):\n",
    "\n",
    "    n_clusters = len(np.unique(labels))\n",
    "\n",
    "    x = projection[:,0]\n",
    "    y = projection[:,1]\n",
    "\n",
    "    color_map_colors = cm.get_cmap('tab10', n_clusters)\n",
    "    cluster_colors = color_map_colors(np.linspace(0, 1, n_clusters))\n",
    "\n",
    "    figure = plt.figure(figsize=(10,10))\n",
    "\n",
    "    for k in range(0,n_clusters):\n",
    "        plt.scatter(x[np.where(labels==k)], y[np.where(labels==k)], color=cluster_colors[k], marker='o', s=40, alpha=1, label=str(k))\n",
    "\n",
    "    l = plt.legend(ncol=1, handletextpad=0, frameon=False, fontsize=22, markerscale=4, bbox_to_anchor=(1,1))\n",
    "    for k, text in enumerate(l.get_texts()):\n",
    "        text.set_color(cluster_colors[k])\n",
    "        \n",
    "    plt.xticks([])\n",
    "    plt.yticks([])\n",
    "    plt.gca().spines[\"top\"].set_visible(False)\n",
    "    plt.gca().spines[\"right\"].set_visible(False)\n",
    "    plt.gca().spines[\"bottom\"].set_visible(False)\n",
    "    plt.gca().spines[\"left\"].set_visible(False)\n",
    "\n",
    "    return plt"
   ]
  },
  {
   "cell_type": "markdown",
   "id": "6bf4568b",
   "metadata": {},
   "source": [
    "Load the MNIST handwritten digits dataset:"
   ]
  },
  {
   "cell_type": "code",
   "execution_count": null,
   "id": "fb6511d2",
   "metadata": {},
   "outputs": [],
   "source": [
    "mnist = fetch_openml(\"mnist_784\", version=1)\n",
    "X = mnist.data\n",
    "labels = mnist.target.astype(int)\n",
    "(n_observations, n_dimensions) = np.shape(X)"
   ]
  },
  {
   "cell_type": "code",
   "execution_count": null,
   "id": "c38ce7cf",
   "metadata": {},
   "outputs": [],
   "source": [
    "labels.shape"
   ]
  },
  {
   "cell_type": "code",
   "execution_count": null,
   "id": "d8e7893a",
   "metadata": {},
   "outputs": [],
   "source": [
    "X.shape"
   ]
  },
  {
   "cell_type": "markdown",
   "id": "15049d50",
   "metadata": {},
   "source": [
    "Once you have your PCA or t-SNE projection, use the `plot_projection` function to visualize it:"
   ]
  },
  {
   "cell_type": "code",
   "execution_count": null,
   "id": "cb748ee7",
   "metadata": {},
   "outputs": [],
   "source": [
    "plot_projection(projection, labels);"
   ]
  },
  {
   "cell_type": "markdown",
   "id": "40fb5d3d",
   "metadata": {},
   "source": [
    "***"
   ]
  }
 ],
 "metadata": {
  "kernelspec": {
   "display_name": "Python 3",
   "language": "python",
   "name": "python3"
  },
  "language_info": {
   "codemirror_mode": {
    "name": "ipython",
    "version": 3
   },
   "file_extension": ".py",
   "mimetype": "text/x-python",
   "name": "python",
   "nbconvert_exporter": "python",
   "pygments_lexer": "ipython3",
   "version": "3.7.6"
  }
 },
 "nbformat": 4,
 "nbformat_minor": 5
}

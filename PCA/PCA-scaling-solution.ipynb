{
 "cells": [
  {
   "cell_type": "markdown",
   "metadata": {},
   "source": [
    "# Exercises on PCA\n",
    "\n",
    "## Exercise 2: Data scaling\n",
    "\n",
    "The goal of this exercise is to explore how data scaling affects the PCA projection.\n",
    "\n",
    "In general the data matrix, $\\mathbf{X}$, can be centered and scaled as follows:\n",
    "\n",
    "$$\n",
    "\\tilde{\\mathbf{X}} = (\\mathbf{X} - \\mathbf{C}) \\mathbf{D}^{-1}\n",
    "$$\n",
    "\n",
    "where $\\mathbf{C}$ is a matrix of centers and $\\mathbf{D}$ is a diagonal matrix of scales. We will denote the $i$th variable in a dataset as $X_i$.\n",
    "\n",
    "The matrix of centers is populated by the mean values of each variable:\n",
    "\n",
    "$$\n",
    "\\begin{gather}\n",
    "\\mathbf{C} = \n",
    "\\begin{bmatrix}\n",
    "c_1 & c_2 &  \\dots & c_n \\\\\n",
    "c_1 & c_2 &  \\dots & c_n \\\\\n",
    "c_1 & c_2 & \\dots & c_n \\\\\n",
    "\\vdots \\\\\n",
    "c_1 & c_2 & \\dots & c_n \\\\\n",
    "\\end{bmatrix}\n",
    "\\end{gather}\n",
    "$$\n",
    "\n",
    "where $c_i = mean(X_i)$.\n",
    "\n",
    "In contrast, the diagonal of the matrix of scales can be populated in many different ways. In general, we can write:\n",
    "\n",
    "$$\n",
    "\\begin{gather}\n",
    "\\mathbf{D} = \n",
    "\\begin{bmatrix}\n",
    "d_1 & 0 & 0 & 0 & 0 & \\dots & 0 \\\\\n",
    "0 & d_2 & 0 & 0 & 0 & \\dots & 0 \\\\\n",
    "0 & 0 & d_3 & 0 & 0 & \\dots & 0 \\\\\n",
    "\\vdots \\\\\n",
    "0 & 0 & 0 & 0 & 0 & \\dots & d_n \\\\\n",
    "\\end{bmatrix}\n",
    "\\end{gather}\n",
    "$$\n",
    "\n",
    "where $d_i$ is the scaling factor applied on the $i$th variable $X_i$.\n",
    "\n",
    "In this exercise, we will explore three ways of scaling the data:\n",
    "\n",
    "- No scaling, where:\n",
    "\n",
    "$$\n",
    "d_i = 1\n",
    "$$\n",
    "\n",
    "- Standard (auto) scaling, where:\n",
    "\n",
    "$$\n",
    "d_i = std(X_i)\n",
    "$$\n",
    "\n",
    "- VAriable STability (VAST) scaling, where:\n",
    "\n",
    "$$\n",
    "d_i = std(X_i)^2 / mean(X_i)\n",
    "$$\n",
    "\n",
    "\n",
    "\n",
    "**Note, that `sklearn`'s PCA always centers the data, but does not scale the data! You have to handle the scaling by yourself.**\n",
    "\n",
    "***"
   ]
  },
  {
   "cell_type": "code",
   "execution_count": 1,
   "metadata": {},
   "outputs": [],
   "source": [
    "import numpy as np\n",
    "import matplotlib.pyplot as plt\n",
    "import pandas as pd\n",
    "from sklearn.decomposition import PCA\n",
    "\n",
    "%matplotlib inline"
   ]
  },
  {
   "cell_type": "markdown",
   "metadata": {},
   "source": [
    "We will use the wine dataset, which has 178 observations and 13 variables. "
   ]
  },
  {
   "cell_type": "code",
   "execution_count": 2,
   "metadata": {},
   "outputs": [],
   "source": [
    "from sklearn.datasets import load_wine\n",
    "\n",
    "wine_data = load_wine().data\n",
    "wine_names = load_wine().feature_names"
   ]
  },
  {
   "cell_type": "code",
   "execution_count": 3,
   "metadata": {},
   "outputs": [
    {
     "data": {
      "text/plain": [
       "(178, 13)"
      ]
     },
     "execution_count": 3,
     "metadata": {},
     "output_type": "execute_result"
    }
   ],
   "source": [
    "wine_data.shape"
   ]
  },
  {
   "cell_type": "markdown",
   "metadata": {},
   "source": [
    "There are three distinct wine classes in the data, and we can access the classification of each wine observation:"
   ]
  },
  {
   "cell_type": "code",
   "execution_count": 4,
   "metadata": {},
   "outputs": [],
   "source": [
    "wine_target = load_wine().target"
   ]
  },
  {
   "cell_type": "markdown",
   "metadata": {},
   "source": [
    "We will compute PCA using all 13 principal components:"
   ]
  },
  {
   "cell_type": "code",
   "execution_count": 5,
   "metadata": {},
   "outputs": [],
   "source": [
    "n_components = 13"
   ]
  },
  {
   "cell_type": "markdown",
   "metadata": {},
   "source": [
    "## PCA with no data scaling"
   ]
  },
  {
   "cell_type": "markdown",
   "metadata": {},
   "source": [
    "We can inspect the wine data sets when variables are not scaled. For this purpose, the `pandas` library is very useful. We can show 10 first rows of the data matrix.\n",
    "\n",
    "You can see that different wine parameters have different numerical ranges:"
   ]
  },
  {
   "cell_type": "code",
   "execution_count": 6,
   "metadata": {},
   "outputs": [
    {
     "data": {
      "text/html": [
       "<div>\n",
       "<style scoped>\n",
       "    .dataframe tbody tr th:only-of-type {\n",
       "        vertical-align: middle;\n",
       "    }\n",
       "\n",
       "    .dataframe tbody tr th {\n",
       "        vertical-align: top;\n",
       "    }\n",
       "\n",
       "    .dataframe thead th {\n",
       "        text-align: right;\n",
       "    }\n",
       "</style>\n",
       "<table border=\"1\" class=\"dataframe\">\n",
       "  <thead>\n",
       "    <tr style=\"text-align: right;\">\n",
       "      <th></th>\n",
       "      <th>alcohol</th>\n",
       "      <th>malic_acid</th>\n",
       "      <th>ash</th>\n",
       "      <th>alcalinity_of_ash</th>\n",
       "      <th>magnesium</th>\n",
       "      <th>total_phenols</th>\n",
       "      <th>flavanoids</th>\n",
       "      <th>nonflavanoid_phenols</th>\n",
       "      <th>proanthocyanins</th>\n",
       "      <th>color_intensity</th>\n",
       "      <th>hue</th>\n",
       "      <th>od280/od315_of_diluted_wines</th>\n",
       "      <th>proline</th>\n",
       "    </tr>\n",
       "  </thead>\n",
       "  <tbody>\n",
       "    <tr>\n",
       "      <th>0</th>\n",
       "      <td>14.23</td>\n",
       "      <td>1.71</td>\n",
       "      <td>2.43</td>\n",
       "      <td>15.6</td>\n",
       "      <td>127.0</td>\n",
       "      <td>2.80</td>\n",
       "      <td>3.06</td>\n",
       "      <td>0.28</td>\n",
       "      <td>2.29</td>\n",
       "      <td>5.64</td>\n",
       "      <td>1.04</td>\n",
       "      <td>3.92</td>\n",
       "      <td>1065.0</td>\n",
       "    </tr>\n",
       "    <tr>\n",
       "      <th>1</th>\n",
       "      <td>13.20</td>\n",
       "      <td>1.78</td>\n",
       "      <td>2.14</td>\n",
       "      <td>11.2</td>\n",
       "      <td>100.0</td>\n",
       "      <td>2.65</td>\n",
       "      <td>2.76</td>\n",
       "      <td>0.26</td>\n",
       "      <td>1.28</td>\n",
       "      <td>4.38</td>\n",
       "      <td>1.05</td>\n",
       "      <td>3.40</td>\n",
       "      <td>1050.0</td>\n",
       "    </tr>\n",
       "    <tr>\n",
       "      <th>2</th>\n",
       "      <td>13.16</td>\n",
       "      <td>2.36</td>\n",
       "      <td>2.67</td>\n",
       "      <td>18.6</td>\n",
       "      <td>101.0</td>\n",
       "      <td>2.80</td>\n",
       "      <td>3.24</td>\n",
       "      <td>0.30</td>\n",
       "      <td>2.81</td>\n",
       "      <td>5.68</td>\n",
       "      <td>1.03</td>\n",
       "      <td>3.17</td>\n",
       "      <td>1185.0</td>\n",
       "    </tr>\n",
       "    <tr>\n",
       "      <th>3</th>\n",
       "      <td>14.37</td>\n",
       "      <td>1.95</td>\n",
       "      <td>2.50</td>\n",
       "      <td>16.8</td>\n",
       "      <td>113.0</td>\n",
       "      <td>3.85</td>\n",
       "      <td>3.49</td>\n",
       "      <td>0.24</td>\n",
       "      <td>2.18</td>\n",
       "      <td>7.80</td>\n",
       "      <td>0.86</td>\n",
       "      <td>3.45</td>\n",
       "      <td>1480.0</td>\n",
       "    </tr>\n",
       "    <tr>\n",
       "      <th>4</th>\n",
       "      <td>13.24</td>\n",
       "      <td>2.59</td>\n",
       "      <td>2.87</td>\n",
       "      <td>21.0</td>\n",
       "      <td>118.0</td>\n",
       "      <td>2.80</td>\n",
       "      <td>2.69</td>\n",
       "      <td>0.39</td>\n",
       "      <td>1.82</td>\n",
       "      <td>4.32</td>\n",
       "      <td>1.04</td>\n",
       "      <td>2.93</td>\n",
       "      <td>735.0</td>\n",
       "    </tr>\n",
       "    <tr>\n",
       "      <th>5</th>\n",
       "      <td>14.20</td>\n",
       "      <td>1.76</td>\n",
       "      <td>2.45</td>\n",
       "      <td>15.2</td>\n",
       "      <td>112.0</td>\n",
       "      <td>3.27</td>\n",
       "      <td>3.39</td>\n",
       "      <td>0.34</td>\n",
       "      <td>1.97</td>\n",
       "      <td>6.75</td>\n",
       "      <td>1.05</td>\n",
       "      <td>2.85</td>\n",
       "      <td>1450.0</td>\n",
       "    </tr>\n",
       "    <tr>\n",
       "      <th>6</th>\n",
       "      <td>14.39</td>\n",
       "      <td>1.87</td>\n",
       "      <td>2.45</td>\n",
       "      <td>14.6</td>\n",
       "      <td>96.0</td>\n",
       "      <td>2.50</td>\n",
       "      <td>2.52</td>\n",
       "      <td>0.30</td>\n",
       "      <td>1.98</td>\n",
       "      <td>5.25</td>\n",
       "      <td>1.02</td>\n",
       "      <td>3.58</td>\n",
       "      <td>1290.0</td>\n",
       "    </tr>\n",
       "    <tr>\n",
       "      <th>7</th>\n",
       "      <td>14.06</td>\n",
       "      <td>2.15</td>\n",
       "      <td>2.61</td>\n",
       "      <td>17.6</td>\n",
       "      <td>121.0</td>\n",
       "      <td>2.60</td>\n",
       "      <td>2.51</td>\n",
       "      <td>0.31</td>\n",
       "      <td>1.25</td>\n",
       "      <td>5.05</td>\n",
       "      <td>1.06</td>\n",
       "      <td>3.58</td>\n",
       "      <td>1295.0</td>\n",
       "    </tr>\n",
       "    <tr>\n",
       "      <th>8</th>\n",
       "      <td>14.83</td>\n",
       "      <td>1.64</td>\n",
       "      <td>2.17</td>\n",
       "      <td>14.0</td>\n",
       "      <td>97.0</td>\n",
       "      <td>2.80</td>\n",
       "      <td>2.98</td>\n",
       "      <td>0.29</td>\n",
       "      <td>1.98</td>\n",
       "      <td>5.20</td>\n",
       "      <td>1.08</td>\n",
       "      <td>2.85</td>\n",
       "      <td>1045.0</td>\n",
       "    </tr>\n",
       "    <tr>\n",
       "      <th>9</th>\n",
       "      <td>13.86</td>\n",
       "      <td>1.35</td>\n",
       "      <td>2.27</td>\n",
       "      <td>16.0</td>\n",
       "      <td>98.0</td>\n",
       "      <td>2.98</td>\n",
       "      <td>3.15</td>\n",
       "      <td>0.22</td>\n",
       "      <td>1.85</td>\n",
       "      <td>7.22</td>\n",
       "      <td>1.01</td>\n",
       "      <td>3.55</td>\n",
       "      <td>1045.0</td>\n",
       "    </tr>\n",
       "  </tbody>\n",
       "</table>\n",
       "</div>"
      ],
      "text/plain": [
       "   alcohol  malic_acid   ash  alcalinity_of_ash  magnesium  total_phenols  \\\n",
       "0    14.23        1.71  2.43               15.6      127.0           2.80   \n",
       "1    13.20        1.78  2.14               11.2      100.0           2.65   \n",
       "2    13.16        2.36  2.67               18.6      101.0           2.80   \n",
       "3    14.37        1.95  2.50               16.8      113.0           3.85   \n",
       "4    13.24        2.59  2.87               21.0      118.0           2.80   \n",
       "5    14.20        1.76  2.45               15.2      112.0           3.27   \n",
       "6    14.39        1.87  2.45               14.6       96.0           2.50   \n",
       "7    14.06        2.15  2.61               17.6      121.0           2.60   \n",
       "8    14.83        1.64  2.17               14.0       97.0           2.80   \n",
       "9    13.86        1.35  2.27               16.0       98.0           2.98   \n",
       "\n",
       "   flavanoids  nonflavanoid_phenols  proanthocyanins  color_intensity   hue  \\\n",
       "0        3.06                  0.28             2.29             5.64  1.04   \n",
       "1        2.76                  0.26             1.28             4.38  1.05   \n",
       "2        3.24                  0.30             2.81             5.68  1.03   \n",
       "3        3.49                  0.24             2.18             7.80  0.86   \n",
       "4        2.69                  0.39             1.82             4.32  1.04   \n",
       "5        3.39                  0.34             1.97             6.75  1.05   \n",
       "6        2.52                  0.30             1.98             5.25  1.02   \n",
       "7        2.51                  0.31             1.25             5.05  1.06   \n",
       "8        2.98                  0.29             1.98             5.20  1.08   \n",
       "9        3.15                  0.22             1.85             7.22  1.01   \n",
       "\n",
       "   od280/od315_of_diluted_wines  proline  \n",
       "0                          3.92   1065.0  \n",
       "1                          3.40   1050.0  \n",
       "2                          3.17   1185.0  \n",
       "3                          3.45   1480.0  \n",
       "4                          2.93    735.0  \n",
       "5                          2.85   1450.0  \n",
       "6                          3.58   1290.0  \n",
       "7                          3.58   1295.0  \n",
       "8                          2.85   1045.0  \n",
       "9                          3.55   1045.0  "
      ]
     },
     "execution_count": 6,
     "metadata": {},
     "output_type": "execute_result"
    }
   ],
   "source": [
    "df = pd.DataFrame(wine_data, columns=wine_names)\n",
    "df.head(10)"
   ]
  },
  {
   "cell_type": "markdown",
   "metadata": {},
   "source": [
    "Perform the PCA transformation of the `wine_data` when no scaling is applied to the data and compute the eigenvectors and eigenvalues:"
   ]
  },
  {
   "cell_type": "code",
   "execution_count": 7,
   "metadata": {},
   "outputs": [],
   "source": [
    "pca = PCA(n_components=n_components)\n",
    "pca.fit(wine_data)\n",
    "A = pca.components_.T\n",
    "L = pca.explained_variance_ratio_\n",
    "Z = wine_data @ A"
   ]
  },
  {
   "cell_type": "markdown",
   "metadata": {},
   "source": [
    "Visualize the two-dimensional PCA projection of the data set. Color the projection by the three classes as per `wine_target`:"
   ]
  },
  {
   "cell_type": "code",
   "execution_count": 8,
   "metadata": {},
   "outputs": [
    {
     "data": {
      "text/plain": [
       "<matplotlib.colorbar.Colorbar at 0x1a31642ad0>"
      ]
     },
     "execution_count": 8,
     "metadata": {},
     "output_type": "execute_result"
    },
    {
     "data": {
      "image/png": "[encoded data removed]",
      "text/plain": [
       "<Figure size 720x360 with 2 Axes>"
      ]
     },
     "metadata": {
      "needs_background": "light"
     },
     "output_type": "display_data"
    }
   ],
   "source": [
    "fig = plt.figure(figsize=(10,5))\n",
    "scat = plt.scatter(Z[:,0], Z[:,1], c=wine_target, cmap=plt.cm.get_cmap('tab10', 3), alpha=0.5)\n",
    "plt.colorbar(scat, ticks=[0,1,2])"
   ]
  },
  {
   "cell_type": "markdown",
   "metadata": {},
   "source": [
    "## PCA with standard (auto) scaling"
   ]
  },
  {
   "cell_type": "markdown",
   "metadata": {},
   "source": [
    "Center and scale the data using standard (auto) scaling, according to the formula given at the top of the notebook.\n",
    "\n",
    "Hint: Python's `numpy` library allows you to subtract, add, multiply or divide each column of a data matrix simply by specifying a vector of values.\n",
    "\n",
    "For instance, if you want to access a mean value of each data **column**, you can write:\n",
    "\n",
    "```\n",
    "np.mean(X, axis=0)\n",
    "```\n",
    "\n",
    "If you want to access a mean value of each data **row**, you can write:\n",
    "\n",
    "```\n",
    "np.mean(X, axis=1)\n",
    "```\n",
    "\n",
    "Both `np.mean(X, axis=0)` and `np.mean(X, axis=1)` are vectors, not a matrices! The parameter `axis` controls along which axis of the data you want the value to be computed. \n",
    "\n",
    "In the cell below, remember to use the `axis` parameter correctly!"
   ]
  },
  {
   "cell_type": "code",
   "execution_count": 9,
   "metadata": {},
   "outputs": [],
   "source": [
    "wine_data_std = (wine_data - np.mean(wine_data, axis=0)) / np.std(wine_data, axis=0)"
   ]
  },
  {
   "cell_type": "markdown",
   "metadata": {},
   "source": [
    "Inspect the first 10 rows of the wine data matrix after scaling. What change do you see?"
   ]
  },
  {
   "cell_type": "code",
   "execution_count": 10,
   "metadata": {},
   "outputs": [
    {
     "data": {
      "text/html": [
       "<div>\n",
       "<style scoped>\n",
       "    .dataframe tbody tr th:only-of-type {\n",
       "        vertical-align: middle;\n",
       "    }\n",
       "\n",
       "    .dataframe tbody tr th {\n",
       "        vertical-align: top;\n",
       "    }\n",
       "\n",
       "    .dataframe thead th {\n",
       "        text-align: right;\n",
       "    }\n",
       "</style>\n",
       "<table border=\"1\" class=\"dataframe\">\n",
       "  <thead>\n",
       "    <tr style=\"text-align: right;\">\n",
       "      <th></th>\n",
       "      <th>alcohol</th>\n",
       "      <th>malic_acid</th>\n",
       "      <th>ash</th>\n",
       "      <th>alcalinity_of_ash</th>\n",
       "      <th>magnesium</th>\n",
       "      <th>total_phenols</th>\n",
       "      <th>flavanoids</th>\n",
       "      <th>nonflavanoid_phenols</th>\n",
       "      <th>proanthocyanins</th>\n",
       "      <th>color_intensity</th>\n",
       "      <th>hue</th>\n",
       "      <th>od280/od315_of_diluted_wines</th>\n",
       "      <th>proline</th>\n",
       "    </tr>\n",
       "  </thead>\n",
       "  <tbody>\n",
       "    <tr>\n",
       "      <th>0</th>\n",
       "      <td>1.518613</td>\n",
       "      <td>-0.562250</td>\n",
       "      <td>0.232053</td>\n",
       "      <td>-1.169593</td>\n",
       "      <td>1.913905</td>\n",
       "      <td>0.808997</td>\n",
       "      <td>1.034819</td>\n",
       "      <td>-0.659563</td>\n",
       "      <td>1.224884</td>\n",
       "      <td>0.251717</td>\n",
       "      <td>0.362177</td>\n",
       "      <td>1.847920</td>\n",
       "      <td>1.013009</td>\n",
       "    </tr>\n",
       "    <tr>\n",
       "      <th>1</th>\n",
       "      <td>0.246290</td>\n",
       "      <td>-0.499413</td>\n",
       "      <td>-0.827996</td>\n",
       "      <td>-2.490847</td>\n",
       "      <td>0.018145</td>\n",
       "      <td>0.568648</td>\n",
       "      <td>0.733629</td>\n",
       "      <td>-0.820719</td>\n",
       "      <td>-0.544721</td>\n",
       "      <td>-0.293321</td>\n",
       "      <td>0.406051</td>\n",
       "      <td>1.113449</td>\n",
       "      <td>0.965242</td>\n",
       "    </tr>\n",
       "    <tr>\n",
       "      <th>2</th>\n",
       "      <td>0.196879</td>\n",
       "      <td>0.021231</td>\n",
       "      <td>1.109334</td>\n",
       "      <td>-0.268738</td>\n",
       "      <td>0.088358</td>\n",
       "      <td>0.808997</td>\n",
       "      <td>1.215533</td>\n",
       "      <td>-0.498407</td>\n",
       "      <td>2.135968</td>\n",
       "      <td>0.269020</td>\n",
       "      <td>0.318304</td>\n",
       "      <td>0.788587</td>\n",
       "      <td>1.395148</td>\n",
       "    </tr>\n",
       "    <tr>\n",
       "      <th>3</th>\n",
       "      <td>1.691550</td>\n",
       "      <td>-0.346811</td>\n",
       "      <td>0.487926</td>\n",
       "      <td>-0.809251</td>\n",
       "      <td>0.930918</td>\n",
       "      <td>2.491446</td>\n",
       "      <td>1.466525</td>\n",
       "      <td>-0.981875</td>\n",
       "      <td>1.032155</td>\n",
       "      <td>1.186068</td>\n",
       "      <td>-0.427544</td>\n",
       "      <td>1.184071</td>\n",
       "      <td>2.334574</td>\n",
       "    </tr>\n",
       "    <tr>\n",
       "      <th>4</th>\n",
       "      <td>0.295700</td>\n",
       "      <td>0.227694</td>\n",
       "      <td>1.840403</td>\n",
       "      <td>0.451946</td>\n",
       "      <td>1.281985</td>\n",
       "      <td>0.808997</td>\n",
       "      <td>0.663351</td>\n",
       "      <td>0.226796</td>\n",
       "      <td>0.401404</td>\n",
       "      <td>-0.319276</td>\n",
       "      <td>0.362177</td>\n",
       "      <td>0.449601</td>\n",
       "      <td>-0.037874</td>\n",
       "    </tr>\n",
       "    <tr>\n",
       "      <th>5</th>\n",
       "      <td>1.481555</td>\n",
       "      <td>-0.517367</td>\n",
       "      <td>0.305159</td>\n",
       "      <td>-1.289707</td>\n",
       "      <td>0.860705</td>\n",
       "      <td>1.562093</td>\n",
       "      <td>1.366128</td>\n",
       "      <td>-0.176095</td>\n",
       "      <td>0.664217</td>\n",
       "      <td>0.731870</td>\n",
       "      <td>0.406051</td>\n",
       "      <td>0.336606</td>\n",
       "      <td>2.239039</td>\n",
       "    </tr>\n",
       "    <tr>\n",
       "      <th>6</th>\n",
       "      <td>1.716255</td>\n",
       "      <td>-0.418624</td>\n",
       "      <td>0.305159</td>\n",
       "      <td>-1.469878</td>\n",
       "      <td>-0.262708</td>\n",
       "      <td>0.328298</td>\n",
       "      <td>0.492677</td>\n",
       "      <td>-0.498407</td>\n",
       "      <td>0.681738</td>\n",
       "      <td>0.083015</td>\n",
       "      <td>0.274431</td>\n",
       "      <td>1.367689</td>\n",
       "      <td>1.729520</td>\n",
       "    </tr>\n",
       "    <tr>\n",
       "      <th>7</th>\n",
       "      <td>1.308617</td>\n",
       "      <td>-0.167278</td>\n",
       "      <td>0.890014</td>\n",
       "      <td>-0.569023</td>\n",
       "      <td>1.492625</td>\n",
       "      <td>0.488531</td>\n",
       "      <td>0.482637</td>\n",
       "      <td>-0.417829</td>\n",
       "      <td>-0.597284</td>\n",
       "      <td>-0.003499</td>\n",
       "      <td>0.449924</td>\n",
       "      <td>1.367689</td>\n",
       "      <td>1.745442</td>\n",
       "    </tr>\n",
       "    <tr>\n",
       "      <th>8</th>\n",
       "      <td>2.259772</td>\n",
       "      <td>-0.625086</td>\n",
       "      <td>-0.718336</td>\n",
       "      <td>-1.650049</td>\n",
       "      <td>-0.192495</td>\n",
       "      <td>0.808997</td>\n",
       "      <td>0.954502</td>\n",
       "      <td>-0.578985</td>\n",
       "      <td>0.681738</td>\n",
       "      <td>0.061386</td>\n",
       "      <td>0.537671</td>\n",
       "      <td>0.336606</td>\n",
       "      <td>0.949319</td>\n",
       "    </tr>\n",
       "    <tr>\n",
       "      <th>9</th>\n",
       "      <td>1.061565</td>\n",
       "      <td>-0.885409</td>\n",
       "      <td>-0.352802</td>\n",
       "      <td>-1.049479</td>\n",
       "      <td>-0.122282</td>\n",
       "      <td>1.097417</td>\n",
       "      <td>1.125176</td>\n",
       "      <td>-1.143031</td>\n",
       "      <td>0.453967</td>\n",
       "      <td>0.935177</td>\n",
       "      <td>0.230557</td>\n",
       "      <td>1.325316</td>\n",
       "      <td>0.949319</td>\n",
       "    </tr>\n",
       "  </tbody>\n",
       "</table>\n",
       "</div>"
      ],
      "text/plain": [
       "    alcohol  malic_acid       ash  alcalinity_of_ash  magnesium  \\\n",
       "0  1.518613   -0.562250  0.232053          -1.169593   1.913905   \n",
       "1  0.246290   -0.499413 -0.827996          -2.490847   0.018145   \n",
       "2  0.196879    0.021231  1.109334          -0.268738   0.088358   \n",
       "3  1.691550   -0.346811  0.487926          -0.809251   0.930918   \n",
       "4  0.295700    0.227694  1.840403           0.451946   1.281985   \n",
       "5  1.481555   -0.517367  0.305159          -1.289707   0.860705   \n",
       "6  1.716255   -0.418624  0.305159          -1.469878  -0.262708   \n",
       "7  1.308617   -0.167278  0.890014          -0.569023   1.492625   \n",
       "8  2.259772   -0.625086 -0.718336          -1.650049  -0.192495   \n",
       "9  1.061565   -0.885409 -0.352802          -1.049479  -0.122282   \n",
       "\n",
       "   total_phenols  flavanoids  nonflavanoid_phenols  proanthocyanins  \\\n",
       "0       0.808997    1.034819             -0.659563         1.224884   \n",
       "1       0.568648    0.733629             -0.820719        -0.544721   \n",
       "2       0.808997    1.215533             -0.498407         2.135968   \n",
       "3       2.491446    1.466525             -0.981875         1.032155   \n",
       "4       0.808997    0.663351              0.226796         0.401404   \n",
       "5       1.562093    1.366128             -0.176095         0.664217   \n",
       "6       0.328298    0.492677             -0.498407         0.681738   \n",
       "7       0.488531    0.482637             -0.417829        -0.597284   \n",
       "8       0.808997    0.954502             -0.578985         0.681738   \n",
       "9       1.097417    1.125176             -1.143031         0.453967   \n",
       "\n",
       "   color_intensity       hue  od280/od315_of_diluted_wines   proline  \n",
       "0         0.251717  0.362177                      1.847920  1.013009  \n",
       "1        -0.293321  0.406051                      1.113449  0.965242  \n",
       "2         0.269020  0.318304                      0.788587  1.395148  \n",
       "3         1.186068 -0.427544                      1.184071  2.334574  \n",
       "4        -0.319276  0.362177                      0.449601 -0.037874  \n",
       "5         0.731870  0.406051                      0.336606  2.239039  \n",
       "6         0.083015  0.274431                      1.367689  1.729520  \n",
       "7        -0.003499  0.449924                      1.367689  1.745442  \n",
       "8         0.061386  0.537671                      0.336606  0.949319  \n",
       "9         0.935177  0.230557                      1.325316  0.949319  "
      ]
     },
     "execution_count": 10,
     "metadata": {},
     "output_type": "execute_result"
    }
   ],
   "source": [
    "df = pd.DataFrame(wine_data_std, columns=wine_names)\n",
    "df.head(10)"
   ]
  },
  {
   "cell_type": "markdown",
   "metadata": {},
   "source": [
    "Perform the PCA transformation of the `wine_data` when standard (auto) scaling is applied to the data and compute the new eigenvectors and eigenvalues:"
   ]
  },
  {
   "cell_type": "code",
   "execution_count": 11,
   "metadata": {},
   "outputs": [],
   "source": [
    "pca_std = PCA(n_components=n_components)\n",
    "pca_std.fit(wine_data_std)\n",
    "A_std = pca_std.components_.T\n",
    "L_std = pca_std.explained_variance_ratio_\n",
    "Z_std = wine_data_std @ A_std"
   ]
  },
  {
   "cell_type": "markdown",
   "metadata": {},
   "source": [
    "Visualize the two-dimensional PCA projection of the data set. Color the projection by the three classes as per `wine_target`. What changes?"
   ]
  },
  {
   "cell_type": "code",
   "execution_count": 12,
   "metadata": {},
   "outputs": [
    {
     "data": {
      "text/plain": [
       "<matplotlib.colorbar.Colorbar at 0x1a31912910>"
      ]
     },
     "execution_count": 12,
     "metadata": {},
     "output_type": "execute_result"
    },
    {
     "data": {
      "image/png": "[encoded data removed]",
      "text/plain": [
       "<Figure size 720x360 with 2 Axes>"
      ]
     },
     "metadata": {
      "needs_background": "light"
     },
     "output_type": "display_data"
    }
   ],
   "source": [
    "fig = plt.figure(figsize=(10,5))\n",
    "scat = plt.scatter(Z_std[:,0], Z_std[:,1], c=wine_target, cmap=plt.cm.get_cmap('tab10', 3), alpha=0.5)\n",
    "plt.colorbar(scat, ticks=[0,1,2])"
   ]
  },
  {
   "cell_type": "markdown",
   "metadata": {},
   "source": [
    "## PCA with VAST scaling"
   ]
  },
  {
   "cell_type": "markdown",
   "metadata": {},
   "source": [
    "Center and scale the data using VAST scaling, according to the formula given at the top of the notebook."
   ]
  },
  {
   "cell_type": "code",
   "execution_count": 13,
   "metadata": {},
   "outputs": [],
   "source": [
    "wine_data_vast = (wine_data - np.mean(wine_data, axis=0)) / (np.std(wine_data, axis=0)**2 / np.mean(wine_data, axis=0))"
   ]
  },
  {
   "cell_type": "markdown",
   "metadata": {},
   "source": [
    "Inspect the first 10 rows of the wine data matrix after scaling. What change do you see?"
   ]
  },
  {
   "cell_type": "code",
   "execution_count": 14,
   "metadata": {},
   "outputs": [
    {
     "data": {
      "text/html": [
       "<div>\n",
       "<style scoped>\n",
       "    .dataframe tbody tr th:only-of-type {\n",
       "        vertical-align: middle;\n",
       "    }\n",
       "\n",
       "    .dataframe tbody tr th {\n",
       "        vertical-align: top;\n",
       "    }\n",
       "\n",
       "    .dataframe thead th {\n",
       "        text-align: right;\n",
       "    }\n",
       "</style>\n",
       "<table border=\"1\" class=\"dataframe\">\n",
       "  <thead>\n",
       "    <tr style=\"text-align: right;\">\n",
       "      <th></th>\n",
       "      <th>alcohol</th>\n",
       "      <th>malic_acid</th>\n",
       "      <th>ash</th>\n",
       "      <th>alcalinity_of_ash</th>\n",
       "      <th>magnesium</th>\n",
       "      <th>total_phenols</th>\n",
       "      <th>flavanoids</th>\n",
       "      <th>nonflavanoid_phenols</th>\n",
       "      <th>proanthocyanins</th>\n",
       "      <th>color_intensity</th>\n",
       "      <th>hue</th>\n",
       "      <th>od280/od315_of_diluted_wines</th>\n",
       "      <th>proline</th>\n",
       "    </tr>\n",
       "  </thead>\n",
       "  <tbody>\n",
       "    <tr>\n",
       "      <th>0</th>\n",
       "      <td>24.387715</td>\n",
       "      <td>-1.179181</td>\n",
       "      <td>2.007353</td>\n",
       "      <td>-6.846844</td>\n",
       "      <td>13.403440</td>\n",
       "      <td>2.975113</td>\n",
       "      <td>2.108257</td>\n",
       "      <td>-1.923120</td>\n",
       "      <td>3.414228</td>\n",
       "      <td>0.550751</td>\n",
       "      <td>1.521382</td>\n",
       "      <td>6.816710</td>\n",
       "      <td>2.409418</td>\n",
       "    </tr>\n",
       "    <tr>\n",
       "      <th>1</th>\n",
       "      <td>3.955216</td>\n",
       "      <td>-1.047397</td>\n",
       "      <td>-7.162521</td>\n",
       "      <td>-14.581516</td>\n",
       "      <td>0.127073</td>\n",
       "      <td>2.091219</td>\n",
       "      <td>1.494636</td>\n",
       "      <td>-2.393011</td>\n",
       "      <td>-1.518349</td>\n",
       "      <td>-0.641781</td>\n",
       "      <td>1.705679</td>\n",
       "      <td>4.107354</td>\n",
       "      <td>2.295805</td>\n",
       "    </tr>\n",
       "    <tr>\n",
       "      <th>2</th>\n",
       "      <td>3.161721</td>\n",
       "      <td>0.044527</td>\n",
       "      <td>9.596215</td>\n",
       "      <td>-1.573204</td>\n",
       "      <td>0.618790</td>\n",
       "      <td>2.975113</td>\n",
       "      <td>2.476429</td>\n",
       "      <td>-1.453230</td>\n",
       "      <td>5.953772</td>\n",
       "      <td>0.588609</td>\n",
       "      <td>1.337085</td>\n",
       "      <td>2.908986</td>\n",
       "      <td>3.318328</td>\n",
       "    </tr>\n",
       "    <tr>\n",
       "      <th>3</th>\n",
       "      <td>27.164947</td>\n",
       "      <td>-0.727350</td>\n",
       "      <td>4.220771</td>\n",
       "      <td>-4.737388</td>\n",
       "      <td>6.519398</td>\n",
       "      <td>9.162368</td>\n",
       "      <td>2.987779</td>\n",
       "      <td>-2.862902</td>\n",
       "      <td>2.877016</td>\n",
       "      <td>2.595091</td>\n",
       "      <td>-1.795964</td>\n",
       "      <td>4.367869</td>\n",
       "      <td>5.552730</td>\n",
       "    </tr>\n",
       "    <tr>\n",
       "      <th>4</th>\n",
       "      <td>4.748711</td>\n",
       "      <td>0.477532</td>\n",
       "      <td>15.920266</td>\n",
       "      <td>2.645708</td>\n",
       "      <td>8.977984</td>\n",
       "      <td>2.975113</td>\n",
       "      <td>1.351458</td>\n",
       "      <td>0.661279</td>\n",
       "      <td>1.118870</td>\n",
       "      <td>-0.698568</td>\n",
       "      <td>1.521382</td>\n",
       "      <td>1.658514</td>\n",
       "      <td>-0.090082</td>\n",
       "    </tr>\n",
       "    <tr>\n",
       "      <th>5</th>\n",
       "      <td>23.792593</td>\n",
       "      <td>-1.085049</td>\n",
       "      <td>2.639758</td>\n",
       "      <td>-7.549996</td>\n",
       "      <td>6.027681</td>\n",
       "      <td>5.744646</td>\n",
       "      <td>2.783239</td>\n",
       "      <td>-0.513448</td>\n",
       "      <td>1.851431</td>\n",
       "      <td>1.601314</td>\n",
       "      <td>1.705679</td>\n",
       "      <td>1.241690</td>\n",
       "      <td>5.325503</td>\n",
       "    </tr>\n",
       "    <tr>\n",
       "      <th>6</th>\n",
       "      <td>27.561695</td>\n",
       "      <td>-0.877960</td>\n",
       "      <td>2.639758</td>\n",
       "      <td>-8.604724</td>\n",
       "      <td>-1.839796</td>\n",
       "      <td>1.207326</td>\n",
       "      <td>1.003740</td>\n",
       "      <td>-1.453230</td>\n",
       "      <td>1.900269</td>\n",
       "      <td>0.181634</td>\n",
       "      <td>1.152788</td>\n",
       "      <td>5.045208</td>\n",
       "      <td>4.113623</td>\n",
       "    </tr>\n",
       "    <tr>\n",
       "      <th>7</th>\n",
       "      <td>21.015360</td>\n",
       "      <td>-0.350824</td>\n",
       "      <td>7.698999</td>\n",
       "      <td>-3.331084</td>\n",
       "      <td>10.453136</td>\n",
       "      <td>1.796588</td>\n",
       "      <td>0.983286</td>\n",
       "      <td>-1.218284</td>\n",
       "      <td>-1.664861</td>\n",
       "      <td>-0.007657</td>\n",
       "      <td>1.889976</td>\n",
       "      <td>5.045208</td>\n",
       "      <td>4.151495</td>\n",
       "    </tr>\n",
       "    <tr>\n",
       "      <th>8</th>\n",
       "      <td>36.290141</td>\n",
       "      <td>-1.310964</td>\n",
       "      <td>-6.213913</td>\n",
       "      <td>-9.659452</td>\n",
       "      <td>-1.348079</td>\n",
       "      <td>2.975113</td>\n",
       "      <td>1.944624</td>\n",
       "      <td>-1.688175</td>\n",
       "      <td>1.900269</td>\n",
       "      <td>0.134311</td>\n",
       "      <td>2.258570</td>\n",
       "      <td>1.241690</td>\n",
       "      <td>2.257933</td>\n",
       "    </tr>\n",
       "    <tr>\n",
       "      <th>9</th>\n",
       "      <td>17.047885</td>\n",
       "      <td>-1.856926</td>\n",
       "      <td>-3.051888</td>\n",
       "      <td>-6.143692</td>\n",
       "      <td>-0.856362</td>\n",
       "      <td>4.035785</td>\n",
       "      <td>2.292343</td>\n",
       "      <td>-3.332793</td>\n",
       "      <td>1.265382</td>\n",
       "      <td>2.046147</td>\n",
       "      <td>0.968491</td>\n",
       "      <td>4.888899</td>\n",
       "      <td>2.257933</td>\n",
       "    </tr>\n",
       "  </tbody>\n",
       "</table>\n",
       "</div>"
      ],
      "text/plain": [
       "     alcohol  malic_acid        ash  alcalinity_of_ash  magnesium  \\\n",
       "0  24.387715   -1.179181   2.007353          -6.846844  13.403440   \n",
       "1   3.955216   -1.047397  -7.162521         -14.581516   0.127073   \n",
       "2   3.161721    0.044527   9.596215          -1.573204   0.618790   \n",
       "3  27.164947   -0.727350   4.220771          -4.737388   6.519398   \n",
       "4   4.748711    0.477532  15.920266           2.645708   8.977984   \n",
       "5  23.792593   -1.085049   2.639758          -7.549996   6.027681   \n",
       "6  27.561695   -0.877960   2.639758          -8.604724  -1.839796   \n",
       "7  21.015360   -0.350824   7.698999          -3.331084  10.453136   \n",
       "8  36.290141   -1.310964  -6.213913          -9.659452  -1.348079   \n",
       "9  17.047885   -1.856926  -3.051888          -6.143692  -0.856362   \n",
       "\n",
       "   total_phenols  flavanoids  nonflavanoid_phenols  proanthocyanins  \\\n",
       "0       2.975113    2.108257             -1.923120         3.414228   \n",
       "1       2.091219    1.494636             -2.393011        -1.518349   \n",
       "2       2.975113    2.476429             -1.453230         5.953772   \n",
       "3       9.162368    2.987779             -2.862902         2.877016   \n",
       "4       2.975113    1.351458              0.661279         1.118870   \n",
       "5       5.744646    2.783239             -0.513448         1.851431   \n",
       "6       1.207326    1.003740             -1.453230         1.900269   \n",
       "7       1.796588    0.983286             -1.218284        -1.664861   \n",
       "8       2.975113    1.944624             -1.688175         1.900269   \n",
       "9       4.035785    2.292343             -3.332793         1.265382   \n",
       "\n",
       "   color_intensity       hue  od280/od315_of_diluted_wines   proline  \n",
       "0         0.550751  1.521382                      6.816710  2.409418  \n",
       "1        -0.641781  1.705679                      4.107354  2.295805  \n",
       "2         0.588609  1.337085                      2.908986  3.318328  \n",
       "3         2.595091 -1.795964                      4.367869  5.552730  \n",
       "4        -0.698568  1.521382                      1.658514 -0.090082  \n",
       "5         1.601314  1.705679                      1.241690  5.325503  \n",
       "6         0.181634  1.152788                      5.045208  4.113623  \n",
       "7        -0.007657  1.889976                      5.045208  4.151495  \n",
       "8         0.134311  2.258570                      1.241690  2.257933  \n",
       "9         2.046147  0.968491                      4.888899  2.257933  "
      ]
     },
     "execution_count": 14,
     "metadata": {},
     "output_type": "execute_result"
    }
   ],
   "source": [
    "df = pd.DataFrame(wine_data_vast, columns=wine_names)\n",
    "df.head(10)"
   ]
  },
  {
   "cell_type": "markdown",
   "metadata": {},
   "source": [
    "Perform the PCA transformation of the `wine_data` when VAST scaling is applied to the data and compute the new eigenvectors and eigenvalues:"
   ]
  },
  {
   "cell_type": "code",
   "execution_count": 15,
   "metadata": {},
   "outputs": [],
   "source": [
    "pca_vast = PCA(n_components=n_components)\n",
    "pca_vast.fit(wine_data_vast)\n",
    "A_vast = pca_vast.components_.T\n",
    "L_vast = pca_vast.explained_variance_ratio_\n",
    "Z_vast = wine_data_vast @ A_vast"
   ]
  },
  {
   "cell_type": "markdown",
   "metadata": {},
   "source": [
    "Visualize the two-dimensional PCA projection of the data set. Color the projection by the three classes as per `wine_target`. What changes?"
   ]
  },
  {
   "cell_type": "code",
   "execution_count": 16,
   "metadata": {},
   "outputs": [
    {
     "data": {
      "text/plain": [
       "<matplotlib.colorbar.Colorbar at 0x1a31aadc90>"
      ]
     },
     "execution_count": 16,
     "metadata": {},
     "output_type": "execute_result"
    },
    {
     "data": {
      "image/png": "[encoded data removed]",
      "text/plain": [
       "<Figure size 720x360 with 2 Axes>"
      ]
     },
     "metadata": {
      "needs_background": "light"
     },
     "output_type": "display_data"
    }
   ],
   "source": [
    "fig = plt.figure(figsize=(10,5))\n",
    "scat = plt.scatter(Z_vast[:,0], Z_vast[:,1], c=wine_target, cmap=plt.cm.get_cmap('tab10', 3), alpha=0.5)\n",
    "plt.colorbar(scat, ticks=[0,1,2])"
   ]
  },
  {
   "cell_type": "markdown",
   "metadata": {},
   "source": [
    "## Compare the eigenvectors\n",
    "\n",
    "Now, we are going to visualize the eigenvectors resulting from no scaling, standard (auto) scaling and VAST scaling.\n",
    "\n",
    "We are going to use the `pyplot`'s `bar` function which helps us generate bar plots. You can use this template to plot the eigenvectors:\n",
    "\n",
    "```\n",
    "plt.bar(x_ticks, height, width=bar_width, color='k', label='Scaling')\n",
    "```\n",
    "\n",
    "Where `x_ticks` specifies the locations on the x-axis where the bars will be plotted, and `height` specifies the height for each bar.\n",
    "\n",
    "Also plot the legend that explains which eigenvector result from which data scaling option."
   ]
  },
  {
   "cell_type": "code",
   "execution_count": 17,
   "metadata": {},
   "outputs": [],
   "source": [
    "# The x_ticks parameter will help you label the x-axis:\n",
    "x_ticks = np.array([i for i in range(0,13)])\n",
    "\n",
    "# The bar_width parameter controls the width of each bar on the bar plot:\n",
    "bar_width = 0.2\n",
    "\n",
    "# Since we are going to compute three bar plots on one plot, we will offset the bar plots so that they are easier to visualize:\n",
    "offset = 0.2"
   ]
  },
  {
   "cell_type": "markdown",
   "metadata": {},
   "source": [
    "Plot the comparison of the **first** eigenvector from the three data scaling options:"
   ]
  },
  {
   "cell_type": "code",
   "execution_count": 18,
   "metadata": {},
   "outputs": [
    {
     "data": {
      "text/plain": [
       "<matplotlib.legend.Legend at 0x1a31b51250>"
      ]
     },
     "execution_count": 18,
     "metadata": {},
     "output_type": "execute_result"
    },
    {
     "data": {
      "image/png": "[encoded data removed]",
      "text/plain": [
       "<Figure size 720x216 with 1 Axes>"
      ]
     },
     "metadata": {
      "needs_background": "light"
     },
     "output_type": "display_data"
    }
   ],
   "source": [
    "fig = plt.figure(figsize=(10,3))\n",
    "plt.bar(x_ticks-offset, A[:,0], width=bar_width, color='k', label='No scaling')\n",
    "plt.bar(x_ticks, A_std[:,0], width=bar_width, color='r', label='Standard (auto) scaling')\n",
    "plt.bar(x_ticks+offset, A_vast[:,0], width=bar_width, color='b', label='VAST scaling')\n",
    "plt.xticks(x_ticks, wine_names, rotation=90)\n",
    "plt.ylabel('First eigenvector weight')\n",
    "plt.grid(alpha=0.2)\n",
    "plt.legend()"
   ]
  },
  {
   "cell_type": "markdown",
   "metadata": {},
   "source": [
    "Plot the comparison of the **second** eigenvector from the three data scaling options:"
   ]
  },
  {
   "cell_type": "code",
   "execution_count": 19,
   "metadata": {},
   "outputs": [
    {
     "data": {
      "text/plain": [
       "<matplotlib.legend.Legend at 0x1a31db1e50>"
      ]
     },
     "execution_count": 19,
     "metadata": {},
     "output_type": "execute_result"
    },
    {
     "data": {
      "image/png": "[encoded data removed]",
      "text/plain": [
       "<Figure size 720x216 with 1 Axes>"
      ]
     },
     "metadata": {
      "needs_background": "light"
     },
     "output_type": "display_data"
    }
   ],
   "source": [
    "fig = plt.figure(figsize=(10,3))\n",
    "plt.bar(x_ticks-offset, A[:,1], width=bar_width, color='k', label='No scaling')\n",
    "plt.bar(x_ticks, A_std[:,1], width=bar_width, color='r', label='Standard (auto) scaling')\n",
    "plt.bar(x_ticks+offset, A_vast[:,1], width=bar_width, color='b', label='VAST scaling')\n",
    "plt.xticks(x_ticks, wine_names, rotation=90)\n",
    "plt.ylabel('Second eigenvector weight')\n",
    "plt.grid(alpha=0.2)\n",
    "plt.legend()"
   ]
  },
  {
   "cell_type": "markdown",
   "metadata": {},
   "source": [
    "## Compare the eigenvalues\n",
    "\n",
    "Finally, we are going to visualize the scree plot of eigenvalues resulting from no scaling, standard (auto) scaling and VAST scaling.\n",
    "\n",
    "Remember to also plot the legend that explains which eigenvalues result from which data scaling option.\n",
    "\n",
    "What differences do you observe?"
   ]
  },
  {
   "cell_type": "code",
   "execution_count": 20,
   "metadata": {},
   "outputs": [
    {
     "data": {
      "text/plain": [
       "<matplotlib.legend.Legend at 0x1a31fa8e90>"
      ]
     },
     "execution_count": 20,
     "metadata": {},
     "output_type": "execute_result"
    },
    {
     "data": {
      "image/png": "[encoded data removed]",
      "text/plain": [
       "<Figure size 720x216 with 1 Axes>"
      ]
     },
     "metadata": {
      "needs_background": "light"
     },
     "output_type": "display_data"
    }
   ],
   "source": [
    "fig = plt.figure(figsize=(10,3))\n",
    "plt.plot(L, 'ko--', label='No scaling')\n",
    "plt.plot(L_std, 'ro--', label='Standard (auto) scaling')\n",
    "plt.plot(L_vast, 'bo--', label='VAST scaling')\n",
    "plt.xticks(x_ticks)\n",
    "plt.xlabel('Number of components')\n",
    "plt.ylabel('Eigenvalue')\n",
    "plt.legend()"
   ]
  },
  {
   "cell_type": "markdown",
   "metadata": {},
   "source": [
    "Final tip: if you'd like to save the plots that you produced, you can add the following command after plotting:\n",
    "\n",
    "```\n",
    "plt.savefig('figure.png', dpi=200, bbox_inches='tight')\n",
    "```\n",
    "\n",
    "You can also control the file extension, e.g. you can save the plot to `.pdf` format instead of `.png`:\n",
    "\n",
    "```\n",
    "plt.savefig('figure.pdf', dpi=200, bbox_inches='tight')\n",
    "```"
   ]
  },
  {
   "cell_type": "markdown",
   "metadata": {},
   "source": [
    "***"
   ]
  }
 ],
 "metadata": {
  "kernelspec": {
   "display_name": "Python 3",
   "language": "python",
   "name": "python3"
  },
  "language_info": {
   "codemirror_mode": {
    "name": "ipython",
    "version": 3
   },
   "file_extension": ".py",
   "mimetype": "text/x-python",
   "name": "python",
   "nbconvert_exporter": "python",
   "pygments_lexer": "ipython3",
   "version": "3.7.6"
  }
 },
 "nbformat": 4,
 "nbformat_minor": 4
}

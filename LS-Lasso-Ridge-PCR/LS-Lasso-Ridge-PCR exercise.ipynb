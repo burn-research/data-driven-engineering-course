{
 "cells": [
  {
   "cell_type": "markdown",
   "id": "42834217",
   "metadata": {},
   "source": [
    "# Exercise on the use of LS, Lasso, Ridge and PCR regression\n",
    "\n",
    "In this exercise we'll check the difference in the application of different regression algorithms.\n",
    "\n",
    "The goal is to predict the association between prostate specific antigen (PSA) and several clinical measures that are potentially associated with PSA in men who were about to receive a radical prostatectomy."
   ]
  },
  {
   "cell_type": "code",
   "execution_count": 1,
   "id": "9b988fea",
   "metadata": {
    "scrolled": true
   },
   "outputs": [
    {
     "name": "stdout",
     "output_type": "stream",
     "text": [
      "      lcavol   lweight  age      lbph  svi       lcp  gleason  pgg45  \\\n",
      "1  -0.579818  2.769459   50 -1.386294    0 -1.386294        6      0   \n",
      "2  -0.994252  3.319626   58 -1.386294    0 -1.386294        6      0   \n",
      "3  -0.510826  2.691243   74 -1.386294    0 -1.386294        7     20   \n",
      "4  -1.203973  3.282789   58 -1.386294    0 -1.386294        6      0   \n",
      "5   0.751416  3.432373   62 -1.386294    0 -1.386294        6      0   \n",
      "..       ...       ...  ...       ...  ...       ...      ...    ...   \n",
      "93  2.830268  3.876396   68 -1.386294    1  1.321756        7     60   \n",
      "94  3.821004  3.896909   44 -1.386294    1  2.169054        7     40   \n",
      "95  2.907447  3.396185   52 -1.386294    1  2.463853        7     10   \n",
      "96  2.882564  3.773910   68  1.558145    1  1.558145        7     80   \n",
      "97  3.471966  3.974998   68  0.438255    1  2.904165        7     20   \n",
      "\n",
      "        lpsa train  \n",
      "1  -0.430783     T  \n",
      "2  -0.162519     T  \n",
      "3  -0.162519     T  \n",
      "4  -0.162519     T  \n",
      "5   0.371564     T  \n",
      "..       ...   ...  \n",
      "93  4.385147     T  \n",
      "94  4.684443     T  \n",
      "95  5.143124     F  \n",
      "96  5.477509     T  \n",
      "97  5.582932     F  \n",
      "\n",
      "[97 rows x 10 columns]\n"
     ]
    }
   ],
   "source": [
    "import pandas as pd\n",
    "import numpy as np\n",
    "import matplotlib.pyplot as plt\n",
    "\n",
    "data = pd.read_csv('cancer_data.txt', sep='\\t', index_col=0) # The entire dataset\n",
    "X = np.array(data.iloc[:,:-2]) # Matrix of the features\n",
    "y = np.array(data.iloc[:,-2]) # Matrix of the target\n",
    "\n",
    "print(data)"
   ]
  },
  {
   "cell_type": "code",
   "execution_count": 2,
   "id": "193a968e",
   "metadata": {},
   "outputs": [],
   "source": [
    "from sklearn.model_selection import train_test_split\n",
    "from sklearn.preprocessing import StandardScaler\n",
    "\n",
    "# To do: \n",
    "# - Split the dataset into a train and test portion. The test portion has to be 20% of the total size.\n",
    "# - Center and scale the feature matrix to unitary variance.\n",
    "\n",
    "# Hints:\n",
    "# - To split the dataset, use the function train_test_split (https://scikit-learn.org/stable/modules/generated/sklearn.model_selection.train_test_split.html)\n",
    "# - To center and scale, use the function StandardScaler (https://scikit-learn.org/stable/modules/generated/sklearn.preprocessing.StandardScaler.html)\n"
   ]
  },
  {
   "cell_type": "markdown",
   "id": "17254607",
   "metadata": {},
   "source": [
    "## Least-Squares regression\n",
    "\n",
    "The objective function of a least-squares problem $ Ax = b$ is:\n",
    "\n",
    "$x = \\underset{x}{\\mathrm{min}} ||Ax - b||^2_2$"
   ]
  },
  {
   "cell_type": "code",
   "execution_count": 3,
   "id": "eab8938a",
   "metadata": {},
   "outputs": [],
   "source": [
    "from sklearn.linear_model import LinearRegression\n",
    "\n",
    "# To do: \n",
    "# - use the function LinearRegression to fit the regression model to the data.\n",
    "# - Plot the predicted values against the observed ones (parity plot).\n",
    "\n",
    "# Hint:\n",
    "# - The function documentation is in: https://scikit-learn.org/stable/modules/generated/sklearn.linear_model.LinearRegression.html\n",
    "# - A simple user guide on the different linear regression models can be found here: https://scikit-learn.org/stable/modules/linear_model.html\n"
   ]
  },
  {
   "cell_type": "markdown",
   "id": "8a31db41",
   "metadata": {},
   "source": [
    "## Lasso regression\n",
    "\n",
    "The objective function of a least-squares problem $ Ax = b$ is:\n",
    "\n",
    "$x = \\underset{x}{\\mathrm{min}} \\frac{1}{2 n_s} ||Ax - b||^2_2 + \\alpha ||x||_1$"
   ]
  },
  {
   "cell_type": "code",
   "execution_count": 4,
   "id": "2cd5a07e",
   "metadata": {
    "scrolled": false
   },
   "outputs": [],
   "source": [
    "from sklearn.linear_model import Lasso\n",
    "\n",
    "# To do: \n",
    "# - use the function Lasso to fit the regression model to the data. Use your choice for the alpha parameter.\n",
    "# - Plot the predicted values against the observed ones (parity plot).\n",
    "# - Compare the Lasso weights and the R2 to the LS regression.\n",
    "\n",
    "# Hint:\n",
    "# - The function documentation is in: https://scikit-learn.org/stable/modules/generated/sklearn.linear_model.Lasso.html\n",
    "# - Use the function's methods and attribute to calculate the weights and R2."
   ]
  },
  {
   "cell_type": "markdown",
   "id": "369b2a1a",
   "metadata": {},
   "source": [
    "The penalty on the L1 norm is used to promote the sparsity of the regression weights.\n",
    "\n",
    "To infer the correct value of $\\alpha$ to apply we can use the cross-validation."
   ]
  },
  {
   "cell_type": "code",
   "execution_count": 5,
   "id": "b3d3e6a2",
   "metadata": {
    "scrolled": true
   },
   "outputs": [],
   "source": [
    "from sklearn.linear_model import LassoCV\n",
    "\n",
    "# To do: \n",
    "# - use the function LassoCV to fit the regression model to the data.\n",
    "# - Compare the LassoCV alpha parameter to the one you selected in the exercise before.\n",
    "\n",
    "# Hint:\n",
    "# - The function documentation is in: https://scikit-learn.org/stable/modules/generated/sklearn.linear_model.LassoCV.html\n",
    "# - Use the function's attribute to obtaine the optimal alpha."
   ]
  },
  {
   "cell_type": "markdown",
   "id": "06aaec55",
   "metadata": {},
   "source": [
    "## Ridge regression\n",
    "\n",
    "The objective function of a least-squares problem $ Ax = b$ is:\n",
    "\n",
    "$x = \\underset{x}{\\mathrm{min}} ||Ax - b||^2_2 + \\alpha ||x||^2_2$"
   ]
  },
  {
   "cell_type": "code",
   "execution_count": 6,
   "id": "2ca7fd82",
   "metadata": {},
   "outputs": [],
   "source": [
    "from sklearn.linear_model import RidgeCV\n",
    "\n",
    "# To do: \n",
    "# - use the function RidgeCV to fit the regression model to the data.\n",
    "# - Plot the predicted values against the observed ones (parity plot).\n",
    "# - Compare the RidgeCV weights and the R2 to the LS regression.\n",
    "\n",
    "# Hint:\n",
    "# - The function documentation is in: https://scikit-learn.org/stable/modules/generated/sklearn.linear_model.RidgeCV.html\n",
    "# - Use the function's methods and attribute to calculate the weights and R2.\n"
   ]
  },
  {
   "cell_type": "markdown",
   "id": "6f638b65",
   "metadata": {},
   "source": [
    "## Principal components regression\n",
    "\n",
    "The principal component regression is the same as the LS regression, with an extra-step: the PCA is applyied to the X matrix, and the linear regression is performed on the new projected data."
   ]
  },
  {
   "cell_type": "code",
   "execution_count": 7,
   "id": "0dcf3065",
   "metadata": {
    "scrolled": true
   },
   "outputs": [],
   "source": [
    "from sklearn.decomposition import PCA\n",
    "\n",
    "# To do: \n",
    "# - use the function PCA to trasform the feature matrix.\n",
    "# - Plot the explained variance ratio.\n",
    "\n",
    "# Hint:\n",
    "# - The function documentation is in: https://scikit-learn.org/stable/modules/generated/sklearn.decomposition.PCA.html\n"
   ]
  },
  {
   "cell_type": "code",
   "execution_count": 8,
   "id": "ebb5b376",
   "metadata": {
    "scrolled": true
   },
   "outputs": [],
   "source": [
    "# To do: \n",
    "# - Calculate the PC matrix (A) and the PC score matrix (Z).\n",
    "# - Apply the linear regression to Z and y.\n",
    "# - Plot the predicted values against the observed ones (parity plot).\n",
    "# - Compare the PCR weights and the R2 to the LS regression.\n"
   ]
  },
  {
   "cell_type": "markdown",
   "id": "c4057ffd",
   "metadata": {},
   "source": [
    "This added step has two benefits:\n",
    "\n",
    "* The features become uncorrelated between them.\n",
    "* The dimensionality of the feature matrix can be reduced."
   ]
  },
  {
   "cell_type": "code",
   "execution_count": 9,
   "id": "cca2e331",
   "metadata": {},
   "outputs": [],
   "source": [
    "# To do: \n",
    "# - Modify the number of PC scores used in the regression and track the resulting R2 score.\n"
   ]
  }
 ],
 "metadata": {
  "kernelspec": {
   "display_name": "Python 3",
   "language": "python",
   "name": "python3"
  },
  "language_info": {
   "codemirror_mode": {
    "name": "ipython",
    "version": 3
   },
   "file_extension": ".py",
   "mimetype": "text/x-python",
   "name": "python",
   "nbconvert_exporter": "python",
   "pygments_lexer": "ipython3",
   "version": "3.7.9"
  }
 },
 "nbformat": 4,
 "nbformat_minor": 5
}
